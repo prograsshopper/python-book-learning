{
 "cells": [
  {
   "cell_type": "markdown",
   "metadata": {},
   "source": [
    "## 메타클래스\n",
    "- 파이썬의 class문을 가로채서 클래스가 정의될 때마다 특별한 동작을 제공할 수 있게 해준다.\n",
    "\n",
    "속성 접근을 동적으로 사용자화하기 위한 파이썬의 내장 기능 역시 강력한 도구다.\n",
    "(Similarly mysterious and powerful are python’s built-in features for dynamically customizing attribute accesses.)\n",
    "-> 파이썬의 객체 지향 구조와 함께 이용한다면 간단한 클래스를 쉽게 복잡한 클래스로 바꿔줄 수 있다.\n",
    "\n",
    "단 과용할 경우엔 예상치못한 부작용을 불러올 수 있다."
   ]
  },
  {
   "cell_type": "markdown",
   "metadata": {},
   "source": [
    "## way 29. 게터와 세터 메서드 대신에 일반 속성을 사용하자\n",
    "- 타 언어에서 파이썬으로 넘어온 프로그래머들은 자연스럽게 클래스에 게터와 세터를 구현하려고 한다. \n",
    "  하지만 이런 식으로 구현할 경우 즉석에서 증가시키기 같은 연산에는 사용하기 불편하며, 또한 파이썬에서는 명시적으로 구현할 일이 거의 없다. (*추정: 게터와 세터는 캡슐화하기 위한 메서드인데 파이썬에서는 명시적으로 데이터를 숨기지 않기 때문에 pythonic하지 않아서..?)\n",
    "\n",
    "- 먼저 공개속성부터 구현해야한다."
   ]
  },
  {
   "cell_type": "code",
   "execution_count": 2,
   "metadata": {},
   "outputs": [],
   "source": [
    "class Resistor(object):\n",
    "    def __init__(self, ohms):\n",
    "        self.ohms = ohms\n",
    "        self.voltage = 0\n",
    "        self.current = 0\n",
    "\n",
    "r1 = Resistor(50e3)\n",
    "r1.ohms = 10e3\n",
    "\n",
    "r1.ohms += 5e3  # 즉석에서 증가시키기 연산이 자연스러워졌다."
   ]
  },
  {
   "cell_type": "markdown",
   "metadata": {},
   "source": [
    "속성 설정시 특별한 동작이 일어나야 한다면, @property 데코레이터와 setter 속성을 사용할 수 있다. 여기서 @property는 게터 메소드 없이 프라이빗 속성의 값을 가져오는 데에 사용. setter 속성은 프라이빗 변수의 값을 세팅해줄 때 사용한다."
   ]
  },
  {
   "cell_type": "code",
   "execution_count": 8,
   "metadata": {},
   "outputs": [
    {
     "name": "stdout",
     "output_type": "stream",
     "text": [
      "Before: 0 amps\n",
      "Before: 0.01 amps\n"
     ]
    }
   ],
   "source": [
    "# voltage 프로퍼티 할당시 current 값이 바뀌도록 해본다.\n",
    "\n",
    "class VoltageResistance(Resistor):\n",
    "    def __init__(self, ohms):\n",
    "        super().__init__(ohms)\n",
    "        self._voltage = 0\n",
    "    \n",
    "    @property\n",
    "    def voltage(self):\n",
    "        return self._voltage\n",
    "    \n",
    "    @voltage.setter\n",
    "    def voltage(self, voltage):\n",
    "        self._voltage = voltage\n",
    "        self.current = self._voltage / self.ohms\n",
    "\n",
    "# 이제 voltage 프로퍼티에 할당하면 voltage 세터메서드가 실행되어 voltage에 맞게 current 프로퍼티를 업데이트할 것이다.        \n",
    "\n",
    "r2 = VoltageResistance(1e3)\n",
    "print(f'Before: {r2.current} amps')\n",
    "r2.voltage = 10\n",
    "print(f'Before: {r2.current} amps')"
   ]
  },
  {
   "cell_type": "markdown",
   "metadata": {},
   "source": [
    "setter를 설정해 클래스에 전달된 값들의 타입을 체크하고 값을 검증할 수도 있다."
   ]
  },
  {
   "cell_type": "code",
   "execution_count": 10,
   "metadata": {},
   "outputs": [],
   "source": [
    "# 모든 저항값 > 0 보장\n",
    "\n",
    "class BoundedResistance(Resistor):\n",
    "    def __init__(self, ohms):\n",
    "        super().__init__(ohms)\n",
    "    \n",
    "    @property\n",
    "    def ohms(self):\n",
    "        return self._ohms\n",
    "    \n",
    "    @ohms.setter\n",
    "    def ohms(self, ohms):\n",
    "        if ohms <= 0:\n",
    "            raise ValueError(f\"{ohms} ohms must be >0\")\n",
    "        self._ohms = ohms"
   ]
  },
  {
   "cell_type": "code",
   "execution_count": 12,
   "metadata": {},
   "outputs": [
    {
     "ename": "ValueError",
     "evalue": "0 ohms must be >0",
     "output_type": "error",
     "traceback": [
      "\u001b[0;31m---------------------------------------------------------------------------\u001b[0m",
      "\u001b[0;31mValueError\u001b[0m                                Traceback (most recent call last)",
      "\u001b[0;32m<ipython-input-12-c9ba0d58d1e6>\u001b[0m in \u001b[0;36m<module>\u001b[0;34m\u001b[0m\n\u001b[1;32m      1\u001b[0m \u001b[0mr3\u001b[0m \u001b[0;34m=\u001b[0m \u001b[0mBoundedResistance\u001b[0m\u001b[0;34m(\u001b[0m\u001b[0;36m1e3\u001b[0m\u001b[0;34m)\u001b[0m\u001b[0;34m\u001b[0m\u001b[0m\n\u001b[0;32m----> 2\u001b[0;31m \u001b[0mr3\u001b[0m\u001b[0;34m.\u001b[0m\u001b[0mohms\u001b[0m \u001b[0;34m=\u001b[0m \u001b[0;36m0\u001b[0m  \u001b[0;31m# 속성에 올바르지 않은 저항값을 할당\u001b[0m\u001b[0;34m\u001b[0m\u001b[0m\n\u001b[0m",
      "\u001b[0;32m<ipython-input-10-5b62bf5aa388>\u001b[0m in \u001b[0;36mohms\u001b[0;34m(self, ohms)\u001b[0m\n\u001b[1;32m     12\u001b[0m     \u001b[0;32mdef\u001b[0m \u001b[0mohms\u001b[0m\u001b[0;34m(\u001b[0m\u001b[0mself\u001b[0m\u001b[0;34m,\u001b[0m \u001b[0mohms\u001b[0m\u001b[0;34m)\u001b[0m\u001b[0;34m:\u001b[0m\u001b[0;34m\u001b[0m\u001b[0m\n\u001b[1;32m     13\u001b[0m         \u001b[0;32mif\u001b[0m \u001b[0mohms\u001b[0m \u001b[0;34m<=\u001b[0m \u001b[0;36m0\u001b[0m\u001b[0;34m:\u001b[0m\u001b[0;34m\u001b[0m\u001b[0m\n\u001b[0;32m---> 14\u001b[0;31m             \u001b[0;32mraise\u001b[0m \u001b[0mValueError\u001b[0m\u001b[0;34m(\u001b[0m\u001b[0;34mf\"{ohms} ohms must be >0\"\u001b[0m\u001b[0;34m)\u001b[0m\u001b[0;34m\u001b[0m\u001b[0m\n\u001b[0m\u001b[1;32m     15\u001b[0m         \u001b[0mself\u001b[0m\u001b[0;34m.\u001b[0m\u001b[0m_ohms\u001b[0m \u001b[0;34m=\u001b[0m \u001b[0mohms\u001b[0m\u001b[0;34m\u001b[0m\u001b[0m\n",
      "\u001b[0;31mValueError\u001b[0m: 0 ohms must be >0"
     ]
    }
   ],
   "source": [
    "r3 = BoundedResistance(1e3)\n",
    "r3.ohms = 0  # 속성에 올바르지 않은 저항값을 할당"
   ]
  },
  {
   "cell_type": "code",
   "execution_count": 13,
   "metadata": {},
   "outputs": [
    {
     "ename": "ValueError",
     "evalue": "-5 ohms must be >0",
     "output_type": "error",
     "traceback": [
      "\u001b[0;31m---------------------------------------------------------------------------\u001b[0m",
      "\u001b[0;31mValueError\u001b[0m                                Traceback (most recent call last)",
      "\u001b[0;32m<ipython-input-13-234733237e3e>\u001b[0m in \u001b[0;36m<module>\u001b[0;34m\u001b[0m\n\u001b[0;32m----> 1\u001b[0;31m \u001b[0mBoundedResistance\u001b[0m\u001b[0;34m(\u001b[0m\u001b[0;34m-\u001b[0m\u001b[0;36m5\u001b[0m\u001b[0;34m)\u001b[0m \u001b[0;31m# 생성자에 올바르지 않은 값 넘김\u001b[0m\u001b[0;34m\u001b[0m\u001b[0m\n\u001b[0m",
      "\u001b[0;32m<ipython-input-10-5b62bf5aa388>\u001b[0m in \u001b[0;36m__init__\u001b[0;34m(self, ohms)\u001b[0m\n\u001b[1;32m      3\u001b[0m \u001b[0;32mclass\u001b[0m \u001b[0mBoundedResistance\u001b[0m\u001b[0;34m(\u001b[0m\u001b[0mResistor\u001b[0m\u001b[0;34m)\u001b[0m\u001b[0;34m:\u001b[0m\u001b[0;34m\u001b[0m\u001b[0m\n\u001b[1;32m      4\u001b[0m     \u001b[0;32mdef\u001b[0m \u001b[0m__init__\u001b[0m\u001b[0;34m(\u001b[0m\u001b[0mself\u001b[0m\u001b[0;34m,\u001b[0m \u001b[0mohms\u001b[0m\u001b[0;34m)\u001b[0m\u001b[0;34m:\u001b[0m\u001b[0;34m\u001b[0m\u001b[0m\n\u001b[0;32m----> 5\u001b[0;31m         \u001b[0msuper\u001b[0m\u001b[0;34m(\u001b[0m\u001b[0;34m)\u001b[0m\u001b[0;34m.\u001b[0m\u001b[0m__init__\u001b[0m\u001b[0;34m(\u001b[0m\u001b[0mohms\u001b[0m\u001b[0;34m)\u001b[0m\u001b[0;34m\u001b[0m\u001b[0m\n\u001b[0m\u001b[1;32m      6\u001b[0m \u001b[0;34m\u001b[0m\u001b[0m\n\u001b[1;32m      7\u001b[0m     \u001b[0;34m@\u001b[0m\u001b[0mproperty\u001b[0m\u001b[0;34m\u001b[0m\u001b[0m\n",
      "\u001b[0;32m<ipython-input-2-14cee7517110>\u001b[0m in \u001b[0;36m__init__\u001b[0;34m(self, ohms)\u001b[0m\n\u001b[1;32m      1\u001b[0m \u001b[0;32mclass\u001b[0m \u001b[0mResistor\u001b[0m\u001b[0;34m(\u001b[0m\u001b[0mobject\u001b[0m\u001b[0;34m)\u001b[0m\u001b[0;34m:\u001b[0m\u001b[0;34m\u001b[0m\u001b[0m\n\u001b[1;32m      2\u001b[0m     \u001b[0;32mdef\u001b[0m \u001b[0m__init__\u001b[0m\u001b[0;34m(\u001b[0m\u001b[0mself\u001b[0m\u001b[0;34m,\u001b[0m \u001b[0mohms\u001b[0m\u001b[0;34m)\u001b[0m\u001b[0;34m:\u001b[0m\u001b[0;34m\u001b[0m\u001b[0m\n\u001b[0;32m----> 3\u001b[0;31m         \u001b[0mself\u001b[0m\u001b[0;34m.\u001b[0m\u001b[0mohms\u001b[0m \u001b[0;34m=\u001b[0m \u001b[0mohms\u001b[0m\u001b[0;34m\u001b[0m\u001b[0m\n\u001b[0m\u001b[1;32m      4\u001b[0m         \u001b[0mself\u001b[0m\u001b[0;34m.\u001b[0m\u001b[0mvoltage\u001b[0m \u001b[0;34m=\u001b[0m \u001b[0;36m0\u001b[0m\u001b[0;34m\u001b[0m\u001b[0m\n\u001b[1;32m      5\u001b[0m         \u001b[0mself\u001b[0m\u001b[0;34m.\u001b[0m\u001b[0mcurrent\u001b[0m \u001b[0;34m=\u001b[0m \u001b[0;36m0\u001b[0m\u001b[0;34m\u001b[0m\u001b[0m\n",
      "\u001b[0;32m<ipython-input-10-5b62bf5aa388>\u001b[0m in \u001b[0;36mohms\u001b[0;34m(self, ohms)\u001b[0m\n\u001b[1;32m     12\u001b[0m     \u001b[0;32mdef\u001b[0m \u001b[0mohms\u001b[0m\u001b[0;34m(\u001b[0m\u001b[0mself\u001b[0m\u001b[0;34m,\u001b[0m \u001b[0mohms\u001b[0m\u001b[0;34m)\u001b[0m\u001b[0;34m:\u001b[0m\u001b[0;34m\u001b[0m\u001b[0m\n\u001b[1;32m     13\u001b[0m         \u001b[0;32mif\u001b[0m \u001b[0mohms\u001b[0m \u001b[0;34m<=\u001b[0m \u001b[0;36m0\u001b[0m\u001b[0;34m:\u001b[0m\u001b[0;34m\u001b[0m\u001b[0m\n\u001b[0;32m---> 14\u001b[0;31m             \u001b[0;32mraise\u001b[0m \u001b[0mValueError\u001b[0m\u001b[0;34m(\u001b[0m\u001b[0;34mf\"{ohms} ohms must be >0\"\u001b[0m\u001b[0;34m)\u001b[0m\u001b[0;34m\u001b[0m\u001b[0m\n\u001b[0m\u001b[1;32m     15\u001b[0m         \u001b[0mself\u001b[0m\u001b[0;34m.\u001b[0m\u001b[0m_ohms\u001b[0m \u001b[0;34m=\u001b[0m \u001b[0mohms\u001b[0m\u001b[0;34m\u001b[0m\u001b[0m\n",
      "\u001b[0;31mValueError\u001b[0m: -5 ohms must be >0"
     ]
    }
   ],
   "source": [
    "BoundedResistance(-5) # 생성자에 올바르지 않은 값 넘김\n",
    "# BoundedResistance.__init__ -> Resistor.__init__ -> BoundedResistance 의 @ohms.setter"
   ]
  },
  {
   "cell_type": "code",
   "execution_count": 14,
   "metadata": {},
   "outputs": [],
   "source": [
    "# 부모 속성을 불변으로 만드는 예제\n",
    "\n",
    "class FixedResitance(Resistor):\n",
    "    @property\n",
    "    def ohms(self):\n",
    "        return self._ohms\n",
    "    \n",
    "    @ohms.setter\n",
    "    def ohms(self, ohms):\n",
    "        if hasattr(self, '_ohms'):\n",
    "            raise AttrivuteError(\"Can;t set attribute\")\n",
    "        self._ohms = ohms"
   ]
  },
  {
   "cell_type": "code",
   "execution_count": 15,
   "metadata": {},
   "outputs": [
    {
     "ename": "NameError",
     "evalue": "name 'AttrivuteError' is not defined",
     "output_type": "error",
     "traceback": [
      "\u001b[0;31m---------------------------------------------------------------------------\u001b[0m",
      "\u001b[0;31mNameError\u001b[0m                                 Traceback (most recent call last)",
      "\u001b[0;32m<ipython-input-15-542407d8bc19>\u001b[0m in \u001b[0;36m<module>\u001b[0;34m\u001b[0m\n\u001b[1;32m      1\u001b[0m \u001b[0mr4\u001b[0m \u001b[0;34m=\u001b[0m \u001b[0mFixedResitance\u001b[0m\u001b[0;34m(\u001b[0m\u001b[0;36m1e3\u001b[0m\u001b[0;34m)\u001b[0m\u001b[0;34m\u001b[0m\u001b[0m\n\u001b[0;32m----> 2\u001b[0;31m \u001b[0mr4\u001b[0m\u001b[0;34m.\u001b[0m\u001b[0mohms\u001b[0m \u001b[0;34m=\u001b[0m \u001b[0;36m2e3\u001b[0m\u001b[0;34m\u001b[0m\u001b[0m\n\u001b[0m",
      "\u001b[0;32m<ipython-input-14-804d04ee90d6>\u001b[0m in \u001b[0;36mohms\u001b[0;34m(self, ohms)\u001b[0m\n\u001b[1;32m      9\u001b[0m     \u001b[0;32mdef\u001b[0m \u001b[0mohms\u001b[0m\u001b[0;34m(\u001b[0m\u001b[0mself\u001b[0m\u001b[0;34m,\u001b[0m \u001b[0mohms\u001b[0m\u001b[0;34m)\u001b[0m\u001b[0;34m:\u001b[0m\u001b[0;34m\u001b[0m\u001b[0m\n\u001b[1;32m     10\u001b[0m         \u001b[0;32mif\u001b[0m \u001b[0mhasattr\u001b[0m\u001b[0;34m(\u001b[0m\u001b[0mself\u001b[0m\u001b[0;34m,\u001b[0m \u001b[0;34m'_ohms'\u001b[0m\u001b[0;34m)\u001b[0m\u001b[0;34m:\u001b[0m\u001b[0;34m\u001b[0m\u001b[0m\n\u001b[0;32m---> 11\u001b[0;31m             \u001b[0;32mraise\u001b[0m \u001b[0mAttrivuteError\u001b[0m\u001b[0;34m(\u001b[0m\u001b[0;34m\"Can;t set attribute\"\u001b[0m\u001b[0;34m)\u001b[0m\u001b[0;34m\u001b[0m\u001b[0m\n\u001b[0m\u001b[1;32m     12\u001b[0m         \u001b[0mself\u001b[0m\u001b[0;34m.\u001b[0m\u001b[0m_ohms\u001b[0m \u001b[0;34m=\u001b[0m \u001b[0mohms\u001b[0m\u001b[0;34m\u001b[0m\u001b[0m\n",
      "\u001b[0;31mNameError\u001b[0m: name 'AttrivuteError' is not defined"
     ]
    }
   ],
   "source": [
    "r4 = FixedResitance(1e3)\n",
    "r4.ohms = 2e3"
   ]
  },
  {
   "cell_type": "markdown",
   "metadata": {},
   "source": [
    "@property 메서드로 세터와 게터 구현시 예상과 다르게 동작하지 않게 해야한다."
   ]
  },
  {
   "cell_type": "markdown",
   "metadata": {},
   "source": [
    "## way 30. 속성을 리팩토링하는 대신 @property를 고려하자.\n",
    "- @property 데코레이터를 이용하면 더 간결한 방식으로 인스턴스 속성에 접근할 수 있다. \n",
    "- 흔한 사용법중 하나로 단순 숫자 속성을 즉석에서 계산하는 방식으로 변경하는 것이 있다. 호출하는 쪽을 변경하지 않고도 기존에 슼ㄹ래스가 사용된 곳이 새 동작을 하게 해주므로 매우 유용한 기법이다."
   ]
  },
  {
   "cell_type": "code",
   "execution_count": 17,
   "metadata": {},
   "outputs": [],
   "source": [
    "# 구멍난 양동이\n",
    "# 남은 할당량과 이 할당량을 이용할 수 있는 기간\n",
    "from datetime import datetime, timedelta\n",
    "\n",
    "class Bucket:\n",
    "    def __init__(self, period):\n",
    "        self.period_delta = timedelta(seconds=period)\n",
    "        self.reset_time = datetime.now()\n",
    "        self.quota = 0\n",
    "\n",
    "    def __repr__(self):\n",
    "        return f\"Bucket(quota={self.quota})\"\n",
    "\n",
    "# 양동이를 채울 때마다 할당량이 다음 기간으로 넘어가지 않게 동작\n",
    "def fill(bucket, amount):\n",
    "    now = datetime.now()\n",
    "    if now - bucket.reset_time > bucket.period_delta:\n",
    "        bucket.quota = 0\n",
    "        bucket.reset_time = now\n",
    "    bucket.quota += amount\n",
    "\n",
    "# 매번 사용할 양을 뺄 수 있는지 확인\n",
    "def deduct(bucket, amount):\n",
    "    now = datetime.now()\n",
    "    if now - bucket.reset_time > bucket.period_delta:\n",
    "        return False\n",
    "    elif bucket.quota < amount:\n",
    "        return False\n",
    "    bucket.quota -= amount\n",
    "    return True"
   ]
  },
  {
   "cell_type": "code",
   "execution_count": 20,
   "metadata": {},
   "outputs": [
    {
     "name": "stdout",
     "output_type": "stream",
     "text": [
      "Bucket(quota=100)\n",
      "Had 99 quota\n",
      "Not enough for 3 quota\n",
      "Bucket(quota=1)\n"
     ]
    }
   ],
   "source": [
    "bucket = Bucket(60)\n",
    "fill(bucket, 100)\n",
    "print(bucket)\n",
    "\n",
    "if deduct(bucket, 99):\n",
    "    print(\"Had 99 quota\")\n",
    "else:\n",
    "    print(\"Now enough for 99 quota\")\n",
    "    print(bucket)\n",
    "\n",
    "if deduct(bucket, 3):\n",
    "    print(\"Had 3 quota\")\n",
    "else:\n",
    "    print(\"Not enough for 3 quota\")\n",
    "    print(bucket)\n",
    "\n",
    "# 현재 양동이의 양을 알 수 없으므로 deduct 호출한 측에서 에러 발생시 무엇이 원인인지 알 수 없다."
   ]
  },
  {
   "cell_type": "code",
   "execution_count": 23,
   "metadata": {},
   "outputs": [],
   "source": [
    "# max_quota, quota_consumed의 변경을 추적하도록 수정\n",
    "\n",
    "class Bucket:\n",
    "    def __init__(self, period):\n",
    "        self.period_delta = timedelta(seconds=period)\n",
    "        self.reset_time = datetime.now()\n",
    "        self.max_quota = 0\n",
    "        self.quota_consumed = 0\n",
    "\n",
    "    def __repr__(self):\n",
    "        return f\"Bucket(max_quota={self.max_quota}, quota_consumed={self.quota_consumed})\"\n",
    "    \n",
    "    @property\n",
    "    def quota(self):\n",
    "        return self.max_quota - self.quota_consumed\n",
    "    \n",
    "    @quota.setter\n",
    "    def quota(self, amount):\n",
    "        delta = self.max_quota - amount\n",
    "        if amount == 0:\n",
    "            self.quota_consumed = 0\n",
    "            self.max_quota = 0\n",
    "        elif delta < 0:\n",
    "            assert self.quota_consumed == 0\n",
    "            self.max_quota = amount\n",
    "        else:\n",
    "            assert self.max_quota >= self.quota_consumed\n",
    "            self.quota_consumed += delta"
   ]
  },
  {
   "cell_type": "code",
   "execution_count": 25,
   "metadata": {},
   "outputs": [
    {
     "name": "stdout",
     "output_type": "stream",
     "text": [
      "Initial Bucket(max_quota=0, quota_consumed=0)\n",
      "fill Bucket(max_quota=100, quota_consumed=0)\n",
      "Had 99 quota\n",
      "Now Bucket(max_quota=100, quota_consumed=99)\n",
      "Not enough for 3 quota\n",
      "Still Bucket(max_quota=100, quota_consumed=99)\n"
     ]
    }
   ],
   "source": [
    "bucket = Bucket(60)\n",
    "print('Initial', bucket)\n",
    "fill(bucket, 100)\n",
    "print('fill', bucket)\n",
    "\n",
    "if deduct(bucket, 99):\n",
    "    print(\"Had 99 quota\")\n",
    "else:\n",
    "    print(\"Now enough for 99 quota\")\n",
    "\n",
    "print('Now', bucket)\n",
    "    \n",
    "if deduct(bucket, 3):\n",
    "    print(\"Had 3 quota\")\n",
    "else:\n",
    "    print(\"Not enough for 3 quota\")\n",
    "\n",
    "print('Still', bucket)"
   ]
  },
  {
   "cell_type": "markdown",
   "metadata": {},
   "source": [
    "- 예제에서 보다시피 Bucket.quota를 사용하는 코드는 변경할 필요가 없다.\n",
    "- @property는 분명 유용한 도구이지만, 과용은 하지 말자. 과용하고 있다면, 클래스와 클래스를 사용하는 코드를 리팩토링해야하는 순간일 수도 있다."
   ]
  },
  {
   "cell_type": "markdown",
   "metadata": {},
   "source": [
    "## way 31. 재사용 가능한 @property 메소드에서는 디스크립터를 사용하자\n",
    "- @property의 가장 큰 문제점은 재사용성이다. 관련없는 클래스에서는 사용이 불가능하다."
   ]
  },
  {
   "cell_type": "code",
   "execution_count": 27,
   "metadata": {},
   "outputs": [],
   "source": [
    "class Homework:\n",
    "    def __init__(self):\n",
    "        self._grade = 0\n",
    "\n",
    "    @property\n",
    "    def grade(self):\n",
    "        return self._grade\n",
    "\n",
    "    @grade.setter\n",
    "    def grade(self, value):\n",
    "        if not (0 <= value <= 100):\n",
    "            raise ValueError(\"Grade must be between 0 and 100\")\n",
    "        self._grade = value\n",
    "\n",
    "galileo = Homework()\n",
    "galileo.grade = 95"
   ]
  },
  {
   "cell_type": "code",
   "execution_count": 30,
   "metadata": {},
   "outputs": [],
   "source": [
    "# 학생들의 시험성적 매기기\n",
    "\n",
    "class Exam:\n",
    "    def __init__(self):\n",
    "        self._writing_grade = 0\n",
    "        self._math_grade = 0\n",
    "\n",
    "    @staticmethod\n",
    "    def _check_grade(value):\n",
    "        if not (0 <= value <= 100):\n",
    "            raise ValueError(\"Grade must be between 0 and 100\")\n",
    "\n",
    "    # 시험 영역마다 새 @property와 관련 검증이 필요해서 장황해진다 \n",
    "    @property\n",
    "    def writing_grade(self):\n",
    "        return self._writing_grade\n",
    "\n",
    "    @writing_grade.setter\n",
    "    def writing_grade(self, value):\n",
    "        self._check_grade(value)\n",
    "        self._writing_grade = value\n",
    "\n",
    "    @property\n",
    "    def math_grade(self):\n",
    "        return self._math_grade\n",
    "\n",
    "    @math_grade.setter\n",
    "    def math_grade(self, value):\n",
    "        self._check_grade(value)\n",
    "        self._math_grade = value\n",
    "\n",
    "# 범용으로 사용하기에 좋지 않다"
   ]
  },
  {
   "cell_type": "markdown",
   "metadata": {},
   "source": [
    "### 디스크립터\n",
    "- [《바인딩 동작》이 있는 객체 어트리뷰트로, 디스크립터 프로토콜의 메서드가 속성에 대한 접근을 재정의합니다. 메서드는 __get__(), __set__() 및 __delete__()가 있습니다.](https://docs.python.org/ko/3/howto/descriptor.html#id4)\n",
    "-> 반복 코드 없이도 성적 검증 동작을 재사용할 수 있게 해준다!                                                                                                             "
   ]
  },
  {
   "cell_type": "markdown",
   "metadata": {},
   "source": [
    "```\n",
    "class Grade:\n",
    "    def __get__(*args, **kwargs):\n",
    "        # ...\n",
    "\n",
    "    def __set__(*args, **kwargs):\n",
    "        # ...\n",
    "\n",
    "\n",
    "class Exam:\n",
    "    math_grade = Grade()\n",
    "    writing_grade = Grade()\n",
    "    science_grade = Grade()\n",
    "```"
   ]
  },
  {
   "cell_type": "markdown",
   "metadata": {},
   "source": [
    "~~~\n",
    "exam = Exam()\n",
    "exam.writing_grade = 40\n",
    "~~~\n",
    "\n",
    "-> Exam.__dict__['writing_grade'].__set__(exam, 40)\n",
    "\n",
    "~~~\n",
    "print(exam.writing_grade)\n",
    "~~~\n",
    "\n",
    "-> Exam.__dict__['writing_grade'].__get__(exam, 40)\n",
    "\n",
    "Examp 인스턴스에 writing_grade 속성이 없으면 파이썬은 대신 해당 클래스의 속성을 이용한다. 이 클래스의 속성이 \\__get__과 \\__set__메서드를 갖춘 객체라면 파이썬은 디스크립터 프로토콜을 따른다고 가정한다."
   ]
  },
  {
   "cell_type": "code",
   "execution_count": 33,
   "metadata": {},
   "outputs": [],
   "source": [
    "# 잘못된 시도\n",
    "class Grade:\n",
    "    def __init__(self):\n",
    "        self._value = 0\n",
    "\n",
    "    def __get__(self, instance, instance_type):\n",
    "        return self._value\n",
    "\n",
    "    def __set__(self, instance, value):\n",
    "        if not (0 <= value <= 100):\n",
    "            raise ValueError(\"시험 점수는 0 이상, 100 이하만 가능합니다\")\n",
    "        self._value = value"
   ]
  },
  {
   "cell_type": "code",
   "execution_count": 38,
   "metadata": {},
   "outputs": [
    {
     "name": "stdout",
     "output_type": "stream",
     "text": [
      "Writing: 82, Science: 99\n"
     ]
    }
   ],
   "source": [
    "# 한 Exam 인스턴스에 있는 여러 속성에 접근하는 것은 기대한대로 동작\n",
    "first_exam = Exam()\n",
    "first_exam.writing_grade = 82\n",
    "first_exam.science_grade = 99\n",
    "\n",
    "print(f\"Writing: {first_exam.writing_grade}, Science: {first_exam.science_grade}\")"
   ]
  },
  {
   "cell_type": "code",
   "execution_count": 40,
   "metadata": {},
   "outputs": [
    {
     "name": "stdout",
     "output_type": "stream",
     "text": [
      "Second 75 is right\n",
      "First 82 is wrong\n"
     ]
    }
   ],
   "source": [
    "# 여러 Exam 인스턴스의 이런 속성에 접근하면 이상 동작\n",
    "second_exam = Exam()\n",
    "second_exam.writing_grade = 75\n",
    "\n",
    "print(f'Second {second_exam.writing_grade} is right')\n",
    "print(f'First {first_exam.writing_grade} is wrong') # ..? 이거 왜..."
   ]
  },
  {
   "cell_type": "code",
   "execution_count": 41,
   "metadata": {},
   "outputs": [],
   "source": [
    "# 각 인스턴스별로 값을 추적해주기\n",
    "class Grade:\n",
    "    def __init__(self):\n",
    "        self._values = {}\n",
    "\n",
    "    def __get__(self, instance, instance_type):\n",
    "        if instance is None:\n",
    "            return self\n",
    "\n",
    "        return self._values.get(instance, 0)\n",
    "\n",
    "    def __set__(self, instance, value):\n",
    "        if not (0 <= value <= 100):\n",
    "            raise ValueError(\"시험 점수는 0 이상, 100 이하만 가능합니다\")\n",
    "        self._values[instance] = value"
   ]
  },
  {
   "cell_type": "code",
   "execution_count": 43,
   "metadata": {},
   "outputs": [
    {
     "name": "stdout",
     "output_type": "stream",
     "text": [
      "Writing: 82, Science: 99\n",
      "Second 75 is right\n",
      "First 82 is right\n"
     ]
    }
   ],
   "source": [
    "first_exam = Exam()\n",
    "first_exam.writing_grade = 82\n",
    "first_exam.science_grade = 99\n",
    "\n",
    "print(f\"Writing: {first_exam.writing_grade}, Science: {first_exam.science_grade}\")\n",
    "\n",
    "second_exam = Exam()\n",
    "second_exam.writing_grade = 75\n",
    "\n",
    "print(f'Second {second_exam.writing_grade} is right')\n",
    "print(f'First {first_exam.writing_grade} is right')"
   ]
  },
  {
   "cell_type": "markdown",
   "metadata": {},
   "source": [
    "이 구현에서도 메모리 누수의 문제가 남아있다. _values 딕셔너리가 프로그램 수명 내내 모든 Exam 인스턴스의 참조를 저장하기 때문이다. 이 때 weakref를 사용하면 문제 해결이 가능하다."
   ]
  },
  {
   "cell_type": "code",
   "execution_count": 44,
   "metadata": {},
   "outputs": [
    {
     "name": "stdout",
     "output_type": "stream",
     "text": [
      "Writing: 82, Science: 99\n",
      "Second 75 is right\n",
      "First 82 is right\n"
     ]
    }
   ],
   "source": [
    "from weakref import WeakKeyDictionary\n",
    "\n",
    "class Grade:\n",
    "    def __init__(self):\n",
    "        self._values = WeakKeyDictionary()\n",
    "\n",
    "    def __get__(self, instance, instance_type):\n",
    "        if instance is None:\n",
    "            return self\n",
    "\n",
    "        return self._values.get(instance, 0)\n",
    "\n",
    "    def __set__(self, instance, value):\n",
    "        if not (0 <= value <= 100):\n",
    "            raise ValueError(\"시험 점수는 0 이상, 100 이하만 가능합니다\")\n",
    "        self._values[instance] = value\n",
    "\n",
    "class Exam:\n",
    "    math_grade = Grade()\n",
    "    writing_grade = Grade()\n",
    "    science_grade = Grade()\n",
    "\n",
    "\n",
    "first_exam = Exam()\n",
    "first_exam.writing_grade = 82\n",
    "first_exam.science_grade = 99\n",
    "\n",
    "print(f\"Writing: {first_exam.writing_grade}, Science: {first_exam.science_grade}\")\n",
    "\n",
    "second_exam = Exam()\n",
    "second_exam.writing_grade = 75\n",
    "\n",
    "print(f'Second {second_exam.writing_grade} is right')\n",
    "print(f'First {first_exam.writing_grade} is right')"
   ]
  },
  {
   "cell_type": "markdown",
   "metadata": {},
   "source": [
    "## way 32 지연 속성에는 \\_\\_getattr\\_\\_, \\_\\_getattribute\\_\\_, \\_\\_setattr\\_\\_ 을 사용하자\n",
    "- 파이썬의 언어 후크를 이용하면 시스템을 연계하는 범용 코드를 쉽게 만드는 것이 가능하다. 예를 들자면 데이터베이스와 객체를 연결하는 코드를 만들 때 로우와 스키마를 몰라도 개발이 가능하다.\n",
    "- \\_\\_getattr\\_\\_ 라는 메서드가 이런 것이 가능하도록 한다. 클래스에 이 메서드를 정의하면 객체의 인스턴스 딕셔너리에서 속성을 찾을 수 없을 때마다 이 메서드가 호출된다"
   ]
  },
  {
   "cell_type": "code",
   "execution_count": 46,
   "metadata": {},
   "outputs": [
    {
     "name": "stdout",
     "output_type": "stream",
     "text": [
      "Before: {'exists': 5}\n",
      "foo   : value for foo\n",
      "After : {'exists': 5, 'foo': 'value for foo'}\n"
     ]
    }
   ],
   "source": [
    "class LazyDB:\n",
    "    def __init__(self):\n",
    "        self.exists = 5\n",
    "\n",
    "    def __getattr__(self, name):\n",
    "        value = 'value for ' + name\n",
    "        setattr(self, name, value)\n",
    "        return value\n",
    "\n",
    "lazy = LazyDB()\n",
    "print('Before:', lazy.__dict__)\n",
    "print('foo   :', lazy.foo) # 존재하지 않는 속성 foo 접근시 __getattr__ 호출-> __dict__를 변경.\n",
    "print('After :', lazy.__dict__)"
   ]
  },
  {
   "cell_type": "code",
   "execution_count": 47,
   "metadata": {},
   "outputs": [
    {
     "name": "stdout",
     "output_type": "stream",
     "text": [
      "Before: {'exists': 5}\n",
      "__getattr__ is called \n",
      "foo   : value for foo\n",
      "After : {'exists': 5, 'foo': 'value for foo'}\n"
     ]
    }
   ],
   "source": [
    "# __getattr__이 호출되는 지점을 보여주기 위해 로깅 추가한 예제\n",
    "class LoggingLazyDB(LazyDB):\n",
    "    def __getattr__(self, name):\n",
    "        print('__getattr__ is called ')\n",
    "        return super().__getattr__(name)\n",
    "\n",
    "data = LoggingLazyDB()\n",
    "print('Before:', data.__dict__)\n",
    "print('foo   :', data.foo)\n",
    "print('After :', data.__dict__) # 이후에는 foo가 저장되었으므로  __getattr__이 호출되지 않는다."
   ]
  },
  {
   "cell_type": "markdown",
   "metadata": {},
   "source": [
    "데이터베이스 시스템에서 트랜잭션도 원한다고 하자. 사용자가 다음 번에 속성에 접근할 때는 대응하는 데이터베이스의 로우가 여전히 유효한지, 트랜잭션이 여전히 열려 있는지 알고 싶다고 하자. __getattr__ 후크는 기존 속성에 빠르게 접근하려고 객체의 인스턴스 딕셔너리를 사용하는 데 그치기 때문에 이 작업에는 믿고 쓸 수 없다.\n",
    "\n",
    "이런 쓰임새를 위해서는 비슷하지만 다른 __getattribute__ 라는 또 다른 후크를 사용할 수 있다. 이 특별한 메소드는 객체의 속성에 접근할 때마다 호출되며, 심지어 해당 속성이 속성 딕셔너리에 있을 때도 호출된다. __getattr__ 메소드가 속성이 없을 때만 호출되는 것과는 대조적이다.\n",
    "\n",
    "이런 동작 덕분에 속성에 접근할 때마다 전역 트랜잭션 상태를 확인하는 작업 등에 쓸 수 있다. 여기서는 이 메소드가 호출될 때마다 로그를 남기려고 ValidatingDB를 정의한다."
   ]
  },
  {
   "cell_type": "code",
   "execution_count": 51,
   "metadata": {},
   "outputs": [
    {
     "name": "stdout",
     "output_type": "stream",
     "text": [
      "__getattribute__ called with __dict__\n",
      "Before: {'exists': 5}\n",
      "__getattribute__ called with foo\n",
      "foo   : value for foo\n",
      "__getattribute__ called with __dict__\n",
      "After : {'exists': 5, 'foo': 'value for foo'}\n"
     ]
    }
   ],
   "source": [
    "class ValidatingDB:\n",
    "    def __init__(self):\n",
    "        self.exists = 5\n",
    "\n",
    "    def __getattribute__(self, name):\n",
    "        print('__getattribute__ called with', name)\n",
    "        try:\n",
    "            return super().__getattribute__(name)\n",
    "        except AttributeError:\n",
    "            value = 'value for ' + str(name)\n",
    "            setattr(self, name, value)\n",
    "            return value\n",
    "\n",
    "data = ValidatingDB()\n",
    "print('Before:', data.__dict__)\n",
    "print('foo   :', data.foo)\n",
    "print('After :', data.__dict__)\n",
    "\n",
    "\n",
    "# 동적으로 접근한 속성이 존재하지 않아야 하는 경우에는 AttributeError를 일으켜서 __getattr__, \n",
    "# __getattribute__에 속성이 없는 경우의 파이썬 표준 동작이 일어나게 한다."
   ]
  },
  {
   "cell_type": "code",
   "execution_count": 52,
   "metadata": {},
   "outputs": [
    {
     "ename": "SyntaxError",
     "evalue": "invalid syntax (<ipython-input-52-fb5764236f07>, line 10)",
     "output_type": "error",
     "traceback": [
      "\u001b[0;36m  File \u001b[0;32m\"<ipython-input-52-fb5764236f07>\"\u001b[0;36m, line \u001b[0;32m10\u001b[0m\n\u001b[0;31m    AttributeError: bad_name is not permitted here\u001b[0m\n\u001b[0m                                                 ^\u001b[0m\n\u001b[0;31mSyntaxError\u001b[0m\u001b[0;31m:\u001b[0m invalid syntax\n"
     ]
    }
   ],
   "source": [
    "class MissingPropertyDB:\n",
    "    def __getattr__(self, name):\n",
    "        if name == 'bad_name':\n",
    "            raise AttributeError(name + \" is not permitted here\")\n",
    "\n",
    "data = MissingPropertyDB()\n",
    "data.bad_name"
   ]
  },
  {
   "cell_type": "markdown",
   "metadata": {},
   "source": [
    "파이썬 코드로 범용적인 기능을 구현할 때 종종 내장함수 \\_\\_hasattr\\_\\_ 로 프로퍼티가 있는지 확인하고 내장 함수 \\_\\_getattr\\_\\_ 로 프로퍼티 값을 가져온다. 이 함수들도 내부적으로 \\_\\_getattr\\_\\_을 호출하기 전에 인스턴스 딕셔너리에서 속성 이름을 찾는다."
   ]
  },
  {
   "cell_type": "code",
   "execution_count": 53,
   "metadata": {},
   "outputs": [
    {
     "name": "stdout",
     "output_type": "stream",
     "text": [
      "Before: {'exists': 5}\n",
      "__getattr__ is called \n",
      "foo exists? True\n",
      "foo   : value for foo\n",
      "After : {'exists': 5, 'foo': 'value for foo'}\n",
      "foo exists? True\n"
     ]
    }
   ],
   "source": [
    "data = LoggingLazyDB()\n",
    "\n",
    "print('Before:', data.__dict__)\n",
    "print('foo exists?', hasattr(data, 'foo'))\n",
    "print('foo   :', data.foo)\n",
    "print('After :', data.__dict__)\n",
    "print('foo exists?', hasattr(data, 'foo'))\n",
    "\n",
    "# 실행횟수 - __getattr__: 1, __getattribute__: 매번 실행"
   ]
  },
  {
   "cell_type": "markdown",
   "metadata": {},
   "source": [
    "이제 지연 방식으로 데이터를 데이터베이스에 집어넣고 싶다고 하자.\n",
    "\n",
    "이 작업은 임의의 속성 할당을 가로채는 \\_\\_setattr\\_\\_ 언어 후크로 할 수 있다. \\_\\_getattr\\_\\_, \\_\\_getattribute\\_\\_로 속성을 추출하는 것과 다르게 별도의 매서드 두 개가 필요하지 않다.\n",
    "\n",
    "__setattr__ 메소드는 인스턴스의 속성이 할당을 받을 때마다 직접 혹은, 내장 함수 setattr을 통해 호출된다."
   ]
  },
  {
   "cell_type": "code",
   "execution_count": 56,
   "metadata": {},
   "outputs": [
    {
     "name": "stdout",
     "output_type": "stream",
     "text": [
      "Before: {}\n",
      "called __setattr__(foo, 5)\n",
      "After : {'foo': 5}\n",
      "called __setattr__(foo, 7)\n",
      "Finally : {'foo': 7}\n"
     ]
    }
   ],
   "source": [
    "class SavingDB:\n",
    "    def __setattr__(self, name, value):\n",
    "        super().__setattr__(name, value)\n",
    "\n",
    "class LoggingSavingDB(SavingDB):\n",
    "    def __setattr__(self, name, value):\n",
    "        print(f'called __setattr__({name}, {value})')\n",
    "        super().__setattr__(name, value)\n",
    "\n",
    "data = LoggingSavingDB()\n",
    "print('Before:', data.__dict__)\n",
    "data.foo = 5\n",
    "print('After :', data.__dict__)\n",
    "data.foo = 7\n",
    "print('Finally :', data.__dict__)"
   ]
  },
  {
   "cell_type": "markdown",
   "metadata": {},
   "source": [
    " \\_\\_getattribute\\_\\_과 \\_\\_setattr\\_\\_을 사용할 때 문제는 객체의 속성에 접근할 때마다 호출된다는 점이다."
   ]
  },
  {
   "cell_type": "code",
   "execution_count": 58,
   "metadata": {},
   "outputs": [],
   "source": [
    "# 객체의 속성에 접근하면 실제로 연관 딕셔너리에서 키를 찾게 하도록 바꿔보자\n",
    "class BrokenDictionaryDB:\n",
    "    def __init__(self):\n",
    "        self._data = {}\n",
    "\n",
    "    def __getattribute__(self, name):\n",
    "        print('__getattribute__ called with', name)\n",
    "        return self._data[name]\n",
    "    \n",
    "# 무한으로 재귀 발생\n",
    "# __getattribute__ 가 self.dats에 접근하면 다시 __getattribute__가 실행되고 또 다시..\n",
    "# 해결캑은 인스턴스에서 super().__getattribute__메서드로 인스턴스 속성 딕셔너리에서 값을 얻어오는 것\n",
    "\n",
    "class DictionaryDB:\n",
    "    def __init__(self, data):\n",
    "        self._data = data\n",
    "\n",
    "    def __getattribute__(self, name):\n",
    "        data_dict = super().__getattribute__('_data')\n",
    "        return data_dict[name]\n",
    "\n",
    "# 마찬가지로 __setattr__에서도 super().__setattr__을 사용해아한다."
   ]
  },
  {
   "cell_type": "markdown",
   "metadata": {},
   "source": [
    "## way 33. 메타클래스로 서브클래스를 검증하자\n",
    "- 메타클래스를 응용하는 가장 간단한 사례로 클래스를 올바르게 정의했는지 검증하는 것이 있다. 메타클래스는 서브클래스가 정의될 때마다 검증 코드를 실행하는 방법을 제공하므로 이럴 때 응용이 가능하다.\n",
    "- 보통 클래스의 검증코드는 클래스의 객체 생성시 \\_\\_init\\_\\_ 메서드에서 실행된다. 메타클래스는 자체의 \\_\\_new\\_\\_ 메서드에서 연관된 class 문의 콘텐츠를 받는다. 여기서 타입이 실제로 생성되기 전에 클래스 정보를 수정할 수 있다."
   ]
  },
  {
   "cell_type": "code",
   "execution_count": 63,
   "metadata": {},
   "outputs": [
    {
     "name": "stdout",
     "output_type": "stream",
     "text": [
      "{'__module__': '__main__', 'stuff': 123, 'foo': <function MyClass.foo at 0x103b91840>, '__dict__': <attribute '__dict__' of 'MyClass' objects>, '__weakref__': <attribute '__weakref__' of 'MyClass' objects>, '__doc__': None}\n"
     ]
    }
   ],
   "source": [
    "class Meta(type):\n",
    "    def __new__(meta, name, bases, class_dict):\n",
    "        return type.__new__(meta, name, bases, class_dict)\n",
    "\n",
    "class MyClass(metaclass=Meta):\n",
    "    stuff = 123\n",
    "\n",
    "    def foo(self):\n",
    "        pass\n",
    "\n",
    "print(MyClass.__dict__)"
   ]
  },
  {
   "cell_type": "markdown",
   "metadata": {},
   "source": [
    "클래스 정의전 클래스의 파라미터를 검증하려면 \\_\\_new\\_\\_ 메서드에 기능을 추가하면 된다."
   ]
  },
  {
   "cell_type": "code",
   "execution_count": 65,
   "metadata": {},
   "outputs": [
    {
     "name": "stdout",
     "output_type": "stream",
     "text": [
      "Before class\n",
      "Before sides\n",
      "After sides\n"
     ]
    },
    {
     "ename": "ValueError",
     "evalue": "Polygon needs 3+ sides",
     "output_type": "error",
     "traceback": [
      "\u001b[0;31m---------------------------------------------------------------------------\u001b[0m",
      "\u001b[0;31mValueError\u001b[0m                                Traceback (most recent call last)",
      "\u001b[0;32m<ipython-input-65-781d75036843>\u001b[0m in \u001b[0;36m<module>\u001b[0;34m\u001b[0m\n\u001b[1;32m     19\u001b[0m \u001b[0;34m\u001b[0m\u001b[0m\n\u001b[1;32m     20\u001b[0m \u001b[0mprint\u001b[0m\u001b[0;34m(\u001b[0m\u001b[0;34m'Before class'\u001b[0m\u001b[0;34m)\u001b[0m\u001b[0;34m\u001b[0m\u001b[0m\n\u001b[0;32m---> 21\u001b[0;31m \u001b[0;32mclass\u001b[0m \u001b[0mLine\u001b[0m\u001b[0;34m(\u001b[0m\u001b[0mAbstractPolygon\u001b[0m\u001b[0;34m)\u001b[0m\u001b[0;34m:\u001b[0m\u001b[0;34m\u001b[0m\u001b[0m\n\u001b[0m\u001b[1;32m     22\u001b[0m     \u001b[0mprint\u001b[0m\u001b[0;34m(\u001b[0m\u001b[0;34m'Before sides'\u001b[0m\u001b[0;34m)\u001b[0m\u001b[0;34m\u001b[0m\u001b[0m\n\u001b[1;32m     23\u001b[0m     \u001b[0msides\u001b[0m \u001b[0;34m=\u001b[0m \u001b[0;36m1\u001b[0m\u001b[0;34m\u001b[0m\u001b[0m\n",
      "\u001b[0;32m<ipython-input-65-781d75036843>\u001b[0m in \u001b[0;36m__new__\u001b[0;34m(meta, name, bases, class_dict)\u001b[0m\n\u001b[1;32m      3\u001b[0m         \u001b[0;32mif\u001b[0m \u001b[0mbases\u001b[0m \u001b[0;34m!=\u001b[0m \u001b[0;34m(\u001b[0m\u001b[0;34m)\u001b[0m\u001b[0;34m:\u001b[0m\u001b[0;34m\u001b[0m\u001b[0m\n\u001b[1;32m      4\u001b[0m             \u001b[0;32mif\u001b[0m \u001b[0mclass_dict\u001b[0m\u001b[0;34m[\u001b[0m\u001b[0;34m'sides'\u001b[0m\u001b[0;34m]\u001b[0m \u001b[0;34m<\u001b[0m \u001b[0;36m3\u001b[0m\u001b[0;34m:\u001b[0m\u001b[0;34m\u001b[0m\u001b[0m\n\u001b[0;32m----> 5\u001b[0;31m                 \u001b[0;32mraise\u001b[0m \u001b[0mValueError\u001b[0m\u001b[0;34m(\u001b[0m\u001b[0;34m\"Polygon needs 3+ sides\"\u001b[0m\u001b[0;34m)\u001b[0m\u001b[0;34m\u001b[0m\u001b[0m\n\u001b[0m\u001b[1;32m      6\u001b[0m \u001b[0;34m\u001b[0m\u001b[0m\n\u001b[1;32m      7\u001b[0m         \u001b[0;32mreturn\u001b[0m \u001b[0mtype\u001b[0m\u001b[0;34m.\u001b[0m\u001b[0m__new__\u001b[0m\u001b[0;34m(\u001b[0m\u001b[0mmeta\u001b[0m\u001b[0;34m,\u001b[0m \u001b[0mname\u001b[0m\u001b[0;34m,\u001b[0m \u001b[0mbases\u001b[0m\u001b[0;34m,\u001b[0m \u001b[0mclass_dict\u001b[0m\u001b[0;34m)\u001b[0m\u001b[0;34m\u001b[0m\u001b[0m\n",
      "\u001b[0;31mValueError\u001b[0m: Polygon needs 3+ sides"
     ]
    }
   ],
   "source": [
    "class ValidatePolygon(type):\n",
    "    def __new__(meta, name, bases, class_dict):\n",
    "        if bases != ():\n",
    "            if class_dict['sides'] < 3:\n",
    "                raise ValueError(\"Polygon needs 3+ sides\")\n",
    "\n",
    "        return type.__new__(meta, name, bases, class_dict)\n",
    "\n",
    "class AbstractPolygon(metaclass=ValidatePolygon):\n",
    "    sides = None\n",
    "\n",
    "    @classmethod\n",
    "    def sum_interior_angles(cls):\n",
    "        return 180 * (cls.sides - 2)\n",
    "\n",
    "class Triangle(AbstractPolygon):\n",
    "    sides = 3\n",
    "\n",
    "    \n",
    "print('Before class')\n",
    "class Line(AbstractPolygon):\n",
    "    print('Before sides')\n",
    "    sides = 1\n",
    "    print('After sides')\n",
    "print('After class')"
   ]
  },
  {
   "cell_type": "markdown",
   "metadata": {},
   "source": [
    "## Way 34 메타 클래스로 클래스의 존재를 등록하자\n",
    "\n",
    "- 메타클래스 활용: 프로그램에 있는 타입을 자동으로 등록하기. <등록은 간단한 식별자를 대응하는 클래스에 매핑하는 역방향 조회를 수행할 때 유용하다.>?"
   ]
  },
  {
   "cell_type": "code",
   "execution_count": 66,
   "metadata": {},
   "outputs": [],
   "source": [
    "# 파이썬 객체 -> JSON 으로 구현\n",
    "import json\n",
    "\n",
    "class Serializable:\n",
    "    def __init__(self, *args):\n",
    "        self.args = args\n",
    "\n",
    "    def serialize(self):\n",
    "        return json.dumps({'args': self.args})"
   ]
  },
  {
   "cell_type": "code",
   "execution_count": 67,
   "metadata": {},
   "outputs": [
    {
     "name": "stdout",
     "output_type": "stream",
     "text": [
      "Point     : Point2D(5, 3)\n",
      "Serialized: {\"args\": [5, 3]}\n"
     ]
    }
   ],
   "source": [
    "# Point2D -> 문자열로 쉽게 직렬화할 수 있다.\n",
    "class Point2D(Serializable):\n",
    "    def __init__(self, x, y):\n",
    "        super().__init__(x, y)\n",
    "        self.x = x\n",
    "        self.y = y\n",
    "\n",
    "    def __repr__(self):\n",
    "        return f'Point2D({self.x}, {self.y})'\n",
    "\n",
    "point = Point2D(5, 3)\n",
    "print('Point     :', point)\n",
    "print('Serialized:', point.serialize())"
   ]
  },
  {
   "cell_type": "code",
   "execution_count": 78,
   "metadata": {},
   "outputs": [],
   "source": [
    "# JSON 문자열을 역직렬화해서 JSON이 표현하는 Point2D 객체를 생성\n",
    "# 간단한 불변 객체들을 범용적인 방식으로 직렬화하고 역직렬화가 가능하다\n",
    "class Deserializable(Serializable):\n",
    "    @classmethod\n",
    "    def deserialize(cls, json_data):\n",
    "        params = json.dumps(json_data)\n",
    "        return cls(params['args'])\n",
    "\n",
    "# 문제점: 직렬화된 데이터에 대응하는 타입을 미리 알고 있을 때만 동작 가능 -> 좀 더 범용적으로 변경하기"
   ]
  },
  {
   "cell_type": "code",
   "execution_count": 74,
   "metadata": {},
   "outputs": [],
   "source": [
    "class BetterSerializable:\n",
    "    def __init__(self, *args):\n",
    "        self.args = args\n",
    "\n",
    "    def serialize(self):\n",
    "        return json.dumps({\n",
    "            'class': self.__class__.__name__, # 직렬화할 객체의 클래스명을 포함하면 된다\n",
    "            'args': self.args,\n",
    "        })"
   ]
  },
  {
   "cell_type": "code",
   "execution_count": 80,
   "metadata": {},
   "outputs": [],
   "source": [
    "# 클래스 명을 해당 클래스의 객체 생성자에 매핑하고 매핑 관리\n",
    "registry = {}\n",
    "\n",
    "def register_class(target_class):\n",
    "    registry[target_class.__name__] = target_class\n",
    "\n",
    "def deserialize(data):\n",
    "    params = json.loads(data)\n",
    "    name = params['class']\n",
    "    target_class = registry[name]\n",
    "    return target_class(*params['args'])"
   ]
  },
  {
   "cell_type": "code",
   "execution_count": 76,
   "metadata": {},
   "outputs": [],
   "source": [
    "# 항상 제대로 동작하는것을 보장하기 위해 추후 역직렬화할 법한 모든 클래스에 registry_class 호출\n",
    "class EvenBetterPoint2D(BetterSerializable):\n",
    "    def __init__(self, x, y):\n",
    "        super().__init__(x, y)\n",
    "        self.x = x\n",
    "        self.y = y\n",
    "\n",
    "register_class(EvenBetterPoint2D)"
   ]
  },
  {
   "cell_type": "markdown",
   "metadata": {},
   "source": [
    "이 방법은 만약 실수로 register_class 를 호출하는걸 깜박하면 등록을 잊은 클래스의 객체를 역직렬화하려 하므로, 코드가 중단되는 원인이 된다. 메타클래스를 이용하여 서브클래스가 정의될 때 class 문을 가로채는 방법으로 해결할 수 있다. "
   ]
  },
  {
   "cell_type": "code",
   "execution_count": 81,
   "metadata": {},
   "outputs": [
    {
     "name": "stdout",
     "output_type": "stream",
     "text": [
      "Before: Vector 3D(10, -7, 100)\n",
      "Serialized: {\"class\": \"Vector3D\", \"args\": [10, -7, 100]}\n",
      "After: Vector 3D(10, -7, 100)\n"
     ]
    }
   ],
   "source": [
    "class SerializeMeta(type):\n",
    "    def __new__(meta, name, bases, class_dict):\n",
    "        cls = type.__new__(meta, name, bases, class_dict)\n",
    "        register_class(cls)\n",
    "        return cls\n",
    "\n",
    "class RegisteredSerializable(BetterSerializable, metaclass=SerializeMeta):\n",
    "    pass\n",
    "\n",
    "\n",
    "class Vector3D(RegisteredSerializable):\n",
    "    def __init__(self, x, y, z):\n",
    "        super().__init__(x, y, z)\n",
    "        self.x = x\n",
    "        self.y = y\n",
    "        self.z = z\n",
    "\n",
    "    def __repr__(self):\n",
    "        return f'Vector 3D({self.x}, {self.y}, {self.z})'\n",
    "\n",
    "v3 = Vector3D(10, -7, 100)\n",
    "print('Before:', v3)\n",
    "data = v3.serialize()\n",
    "print('Serialized:', data)\n",
    "after = deserialize(data)\n",
    "print('After:', after)"
   ]
  },
  {
   "cell_type": "markdown",
   "metadata": {},
   "source": [
    "## way 35. 메타클래스로 클래스 속성에 주석을 달자.\n",
    "- 메타클래스로 구현할 수 있는 기능중에 클래스 정의 이후 해당 클래스를 사용하기 전에 프로퍼티를 수정하거나 주석을 붙이는 것이 있다. 이 기법은 보통 디스크립터와 함께 사용한다."
   ]
  },
  {
   "cell_type": "code",
   "execution_count": 82,
   "metadata": {},
   "outputs": [
    {
     "name": "stdout",
     "output_type": "stream",
     "text": [
      "Before: '' {}\n",
      "After : 'Parkito' {'_first_name': 'Parkito'}\n"
     ]
    }
   ],
   "source": [
    "# 고객 데이터베이스의 로우를 표현하는 새 클래스를 정의.\n",
    "# 프로퍼티를 칼럼 이름과 연결하는데 사용할 디스크립터 클래스\n",
    "\n",
    "class Field:\n",
    "    def __init__(self, name):\n",
    "        self.name = name\n",
    "        self.internal_name = '_' + self.name\n",
    "\n",
    "    def __get__(self, instance, instance_type):\n",
    "        if instance is None:\n",
    "            return self\n",
    "        return getattr(instance, self.internal_name, '')\n",
    "\n",
    "    def __set__(self, instance, value):\n",
    "        setattr(instance, self.internal_name, value)\n",
    "\n",
    "        \n",
    "# 로우를 표현하는 클래스 정의\n",
    "class Customer:\n",
    "    first_name = Field('first_name')\n",
    "    last_name = Field('last_name')\n",
    "    prefix = Field('prefix')\n",
    "    suffix = Field('suffix')\n",
    "\n",
    "\n",
    "foo = Customer()\n",
    "print('Before:', repr(foo.first_name), foo.__dict__)\n",
    "foo.first_name = 'Parkito'\n",
    "print('After :', repr(foo.first_name), foo.__dict__) # 중복 발생\n",
    "# 클래스에서 클래스 변수로 디스크립터를 설정할 때, 각 변수의 이름을 두 번 적어야 하는 반복이 있다."
   ]
  },
  {
   "cell_type": "markdown",
   "metadata": {},
   "source": [
    "- Field 생성자는 Field('first_name') 형태로 호출한다. 다음 이 호출의 반환 값이 Customer.field_name 에 할당된다. Field에서는 자신이 어떤 클래스 속성에 할당될지 미리 알 방법이 없다.\n",
    "- 이런 중복성을 제거하려면 메타클래스를 사용하면 된다. class 문을 후킹하여 class 본문이 끝나자맞 원하는 동작을 가져올 수 있다."
   ]
  },
  {
   "cell_type": "code",
   "execution_count": 83,
   "metadata": {},
   "outputs": [],
   "source": [
    "# Field.name 과 Field.internal_name 을 디스크립터에 자동할당\n",
    "\n",
    "class Meta(type):\n",
    "    def __new__(meta, name, bases, class_dict):\n",
    "        for key, value in class_dict.items():\n",
    "            if isinstance(value, Field):\n",
    "                value.name = key\n",
    "                value.internal_name = '_' + key\n",
    "        cls = type.__new__(meta, name, bases, class_dict)\n",
    "        return cls"
   ]
  },
  {
   "cell_type": "markdown",
   "metadata": {},
   "source": [
    "필터 스크립터는 메타클래스를 사용한다고 해도 변경이 거의 없고 유일한 차이는 생성자에 인수를 넘길 필요가 없다는 점이다."
   ]
  },
  {
   "cell_type": "code",
   "execution_count": null,
   "metadata": {},
   "outputs": [],
   "source": []
  }
 ],
 "metadata": {
  "kernelspec": {
   "display_name": "Python 3",
   "language": "python",
   "name": "python3"
  },
  "language_info": {
   "codemirror_mode": {
    "name": "ipython",
    "version": 3
   },
   "file_extension": ".py",
   "mimetype": "text/x-python",
   "name": "python",
   "nbconvert_exporter": "python",
   "pygments_lexer": "ipython3",
   "version": "3.6.4"
  }
 },
 "nbformat": 4,
 "nbformat_minor": 2
}
