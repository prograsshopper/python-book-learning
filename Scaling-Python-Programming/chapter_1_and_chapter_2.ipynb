{
 "cells": [
  {
   "cell_type": "code",
   "execution_count": null,
   "metadata": {},
   "outputs": [],
   "source": [
    "# Chapter 1"
   ]
  },
  {
   "cell_type": "markdown",
   "metadata": {},
   "source": [
    "## 어플리케이션의 3가지 형태\n",
    "\n",
    "### 싱글 스레드 어플리케이션\n",
    "- 일반적으로 많이 택하는 형태로 작업 분산은 고려하지 않음\n",
    "\n",
    "### 멀티 스레드 어플리케이션\n",
    "- 장착된 CPU가 여러개일 경우 사용하기 좋음\n",
    "- 어플리케이션이 과부하를 줄 경우 새 스레드나 프로세스를 생성해서 다른 CPU가 분산 처리\n",
    "\n",
    "### 네트워크 분산 어플리케이션\n",
    "- 모든 방법을 시도해보고 가장 마지막으로 선택하는 방식"
   ]
  },
  {
   "cell_type": "markdown",
   "metadata": {},
   "source": [
    "## CPU를 사용한 분산 형태\n",
    "- 파이썬에서 사용하기엔 큰 약점-GIL이 있음\n",
    "\n",
    "### GIL (Global Interpreter Lock)\n",
    "- 파이썬에서 스레드를 여러개로 확장하더라도 이걸로 인해서 성능이 제한적이다,\n",
    "\n",
    "- 파이썬이 제공하는 일부 객체가 스레드에 대해 안전하다는 걸 보장한다"
   ]
  },
  {
   "cell_type": "code",
   "execution_count": 1,
   "metadata": {},
   "outputs": [
    {
     "name": "stdout",
     "output_type": "stream",
     "text": [
      "[2, 1]\n"
     ]
    }
   ],
   "source": [
    "# 예시 코드\n",
    "\"\"\"\n",
    "list.append는 원자적연산이다\n",
    "이게 가능한 이유는 GIL을 통해서 한번에 하나의 스레드만 바이트코드 실행이 가능하기 때문\n",
    "\"\"\"\n",
    "import threading\n",
    "\n",
    "x = []\n",
    "\n",
    "def append_two(l):\n",
    "    l.append(2)\n",
    "\n",
    "threading.Thread(target=append_two, args=(x,)).start()\n",
    "    \n",
    "x.append(1)\n",
    "print(x)"
   ]
  },
  {
   "cell_type": "markdown",
   "metadata": {},
   "source": [
    "스레드에서 많은 바이트코드를 사용하면 GIL을 얻기위한 경쟁도 발생하여 오히려 싱글스레드보다 안 좋을 수도 있다.\n",
    "-> 멀티 프로세스를 써보자"
   ]
  },
  {
   "cell_type": "markdown",
   "metadata": {},
   "source": [
    "## 분산 시스템\n",
    "- 네트워크를 통해 연결된 서버 여러대를 사용, 즉 어플리케이션은 하나의 노드가 아닌 여러 대의 노드와 연결되어 분산한다."
   ]
  },
  {
   "cell_type": "code",
   "execution_count": 2,
   "metadata": {},
   "outputs": [],
   "source": [
    "# Chapter 2 CPU확장"
   ]
  },
  {
   "cell_type": "code",
   "execution_count": 9,
   "metadata": {},
   "outputs": [],
   "source": [
    "# threading 모듈은 메인 스레드 외의 스레드를 실행하기 위해 제공\n",
    "# 예제 2.1 스레드생성\n",
    "\n",
    "import threading\n",
    "\n",
    "def test_thread():\n",
    "    def print_something(something):\n",
    "        print(something)\n",
    "\n",
    "    t = threading.Thread(target=print_something, args=(\"hello\",))\n",
    "    t.start()\n",
    "    print(\"thread started\")\n",
    "    t.join()"
   ]
  },
  {
   "cell_type": "code",
   "execution_count": 12,
   "metadata": {},
   "outputs": [
    {
     "name": "stdout",
     "output_type": "stream",
     "text": [
      "hello\n",
      "thread started\n",
      "hello\n",
      "thread started\n",
      "hello\n",
      "thread started\n",
      "hello\n",
      "thread started\n",
      "hello\n",
      "thread started\n",
      "hello\n",
      "thread started\n",
      "hello\n",
      "thread started\n",
      "hello\n",
      "thread started\n",
      "hello\n",
      "thread started\n",
      "hello\n",
      "thread started\n"
     ]
    }
   ],
   "source": [
    "# 순서가 보장되지 않음\n",
    "for i in range(10):\n",
    "test_thread()"
   ]
  },
  {
   "cell_type": "code",
   "execution_count": 1,
   "metadata": {},
   "outputs": [
    {
     "name": "stdout",
     "output_type": "stream",
     "text": [
      "hello\n",
      "thread started\n"
     ]
    }
   ],
   "source": [
    "\"\"\"\n",
    "프로그램이 스레드의 완료를 기다릴 수 없는 상황이라면 스레드를 데몬으로 만들 수 있다.\n",
    "이렇게 하면 백그라운드 스레드로 간주되어 메인 스레드가 종료되자마자 같이 종료된다.\n",
    "\"\"\"\n",
    "\n",
    "#예제 2.2 데몬으로 스레드 생성\n",
    "import threading\n",
    "\n",
    "def print_something(something):\n",
    "    print(something)\n",
    "    \n",
    "t = threading.Thread(target=print_something, args=(\"hello\",))\n",
    "t.daemon = True\n",
    "t.start()\n",
    "print(\"thread started\")"
   ]
  },
  {
   "cell_type": "code",
   "execution_count": 3,
   "metadata": {},
   "outputs": [
    {
     "ename": "KeyboardInterrupt",
     "evalue": "",
     "output_type": "error",
     "traceback": [
      "\u001b[0;31m---------------------------------------------------------------------------\u001b[0m",
      "\u001b[0;31mKeyboardInterrupt\u001b[0m                         Traceback (most recent call last)",
      "\u001b[0;32m<ipython-input-3-eb79d0452519>\u001b[0m in \u001b[0;36m<module>\u001b[0;34m\u001b[0m\n\u001b[1;32m     16\u001b[0m \u001b[0;34m\u001b[0m\u001b[0m\n\u001b[1;32m     17\u001b[0m \u001b[0;32mfor\u001b[0m \u001b[0mworker\u001b[0m \u001b[0;32min\u001b[0m \u001b[0mworkers\u001b[0m\u001b[0;34m:\u001b[0m\u001b[0;34m\u001b[0m\u001b[0;34m\u001b[0m\u001b[0m\n\u001b[0;32m---> 18\u001b[0;31m     \u001b[0mworker\u001b[0m\u001b[0;34m.\u001b[0m\u001b[0mjoin\u001b[0m\u001b[0;34m(\u001b[0m\u001b[0;34m)\u001b[0m\u001b[0;34m\u001b[0m\u001b[0;34m\u001b[0m\u001b[0m\n\u001b[0m\u001b[1;32m     19\u001b[0m \u001b[0mprint\u001b[0m\u001b[0;34m(\u001b[0m\u001b[0;34m\"Results: %s\"\u001b[0m \u001b[0;34m%\u001b[0m \u001b[0mresults\u001b[0m\u001b[0;34m)\u001b[0m\u001b[0;34m\u001b[0m\u001b[0;34m\u001b[0m\u001b[0m\n",
      "\u001b[0;32m~/.pyenv/versions/3.7.1/lib/python3.7/threading.py\u001b[0m in \u001b[0;36mjoin\u001b[0;34m(self, timeout)\u001b[0m\n\u001b[1;32m   1030\u001b[0m \u001b[0;34m\u001b[0m\u001b[0m\n\u001b[1;32m   1031\u001b[0m         \u001b[0;32mif\u001b[0m \u001b[0mtimeout\u001b[0m \u001b[0;32mis\u001b[0m \u001b[0;32mNone\u001b[0m\u001b[0;34m:\u001b[0m\u001b[0;34m\u001b[0m\u001b[0;34m\u001b[0m\u001b[0m\n\u001b[0;32m-> 1032\u001b[0;31m             \u001b[0mself\u001b[0m\u001b[0;34m.\u001b[0m\u001b[0m_wait_for_tstate_lock\u001b[0m\u001b[0;34m(\u001b[0m\u001b[0;34m)\u001b[0m\u001b[0;34m\u001b[0m\u001b[0;34m\u001b[0m\u001b[0m\n\u001b[0m\u001b[1;32m   1033\u001b[0m         \u001b[0;32melse\u001b[0m\u001b[0;34m:\u001b[0m\u001b[0;34m\u001b[0m\u001b[0;34m\u001b[0m\u001b[0m\n\u001b[1;32m   1034\u001b[0m             \u001b[0;31m# the behavior of a negative timeout isn't documented, but\u001b[0m\u001b[0;34m\u001b[0m\u001b[0;34m\u001b[0m\u001b[0;34m\u001b[0m\u001b[0m\n",
      "\u001b[0;32m~/.pyenv/versions/3.7.1/lib/python3.7/threading.py\u001b[0m in \u001b[0;36m_wait_for_tstate_lock\u001b[0;34m(self, block, timeout)\u001b[0m\n\u001b[1;32m   1046\u001b[0m         \u001b[0;32mif\u001b[0m \u001b[0mlock\u001b[0m \u001b[0;32mis\u001b[0m \u001b[0;32mNone\u001b[0m\u001b[0;34m:\u001b[0m  \u001b[0;31m# already determined that the C code is done\u001b[0m\u001b[0;34m\u001b[0m\u001b[0;34m\u001b[0m\u001b[0m\n\u001b[1;32m   1047\u001b[0m             \u001b[0;32massert\u001b[0m \u001b[0mself\u001b[0m\u001b[0;34m.\u001b[0m\u001b[0m_is_stopped\u001b[0m\u001b[0;34m\u001b[0m\u001b[0;34m\u001b[0m\u001b[0m\n\u001b[0;32m-> 1048\u001b[0;31m         \u001b[0;32melif\u001b[0m \u001b[0mlock\u001b[0m\u001b[0;34m.\u001b[0m\u001b[0macquire\u001b[0m\u001b[0;34m(\u001b[0m\u001b[0mblock\u001b[0m\u001b[0;34m,\u001b[0m \u001b[0mtimeout\u001b[0m\u001b[0;34m)\u001b[0m\u001b[0;34m:\u001b[0m\u001b[0;34m\u001b[0m\u001b[0;34m\u001b[0m\u001b[0m\n\u001b[0m\u001b[1;32m   1049\u001b[0m             \u001b[0mlock\u001b[0m\u001b[0;34m.\u001b[0m\u001b[0mrelease\u001b[0m\u001b[0;34m(\u001b[0m\u001b[0;34m)\u001b[0m\u001b[0;34m\u001b[0m\u001b[0;34m\u001b[0m\u001b[0m\n\u001b[1;32m   1050\u001b[0m             \u001b[0mself\u001b[0m\u001b[0;34m.\u001b[0m\u001b[0m_stop\u001b[0m\u001b[0;34m(\u001b[0m\u001b[0;34m)\u001b[0m\u001b[0;34m\u001b[0m\u001b[0;34m\u001b[0m\u001b[0m\n",
      "\u001b[0;31mKeyboardInterrupt\u001b[0m: "
     ]
    }
   ],
   "source": [
    "# 예제 2.3 멀티 스레딩을 사용한 워커\n",
    "import random\n",
    "import threading\n",
    "\n",
    "results = []\n",
    "\n",
    "def compute():\n",
    "    results.append(sum(\n",
    "        [random.randint(1, 100) for i in range(1000000)]\n",
    "    ))\n",
    "\n",
    "workers = [threading.Thread(target=compute) for x in range(8)]\n",
    "\n",
    "for worker in workers:\n",
    "    worker.start()\n",
    "\n",
    "for worker in workers:\n",
    "    worker.join()\n",
    "print(\"Results: %s\" % results)"
   ]
  },
  {
   "cell_type": "markdown",
   "metadata": {},
   "source": [
    "## 프로세스 사용하기"
   ]
  },
  {
   "cell_type": "code",
   "execution_count": null,
   "metadata": {},
   "outputs": [],
   "source": [
    "# 예제 2.4 멀티프로세싱 사용하기\n",
    "import random\n",
    "import multiprocessing\n",
    "\n",
    "def compute(results):\n",
    "    results.append(sum(\n",
    "        [random.randint(1, 100) for i in range(10000)]\n",
    "    ))\n",
    "\n",
    "with multiprocessing.Manager() as manager:\n",
    "    results = manager.list()\n",
    "    workers = [multiprocessiong.Process(target=compute, args=(results,)) for x in range(8)]\n",
    "    \n",
    "    for worker in workes:\n",
    "        worker.start()\n",
    "    for worker in workers:\n",
    "        worker.join()\n",
    "    \n",
    "    print(\"Results: %s\" % results)"
   ]
  },
  {
   "cell_type": "code",
   "execution_count": null,
   "metadata": {},
   "outputs": [],
   "source": [
    "# 2.6 멀티프로세싱을 사용하는 워커\n",
    "import multiprocessing\n",
    "import random\n",
    "\n",
    "pool = multiprocessing.Pool(processes=8)\n",
    "print(\"Results: %s\" % pool.map(compute, range(8)))"
   ]
  },
  {
   "cell_type": "code",
   "execution_count": null,
   "metadata": {},
   "outputs": [],
   "source": []
  }
 ],
 "metadata": {
  "kernelspec": {
   "display_name": "Python 3",
   "language": "python",
   "name": "python3"
  },
  "language_info": {
   "codemirror_mode": {
    "name": "ipython",
    "version": 3
   },
   "file_extension": ".py",
   "mimetype": "text/x-python",
   "name": "python",
   "nbconvert_exporter": "python",
   "pygments_lexer": "ipython3",
   "version": "3.7.1"
  }
 },
 "nbformat": 4,
 "nbformat_minor": 4
}
